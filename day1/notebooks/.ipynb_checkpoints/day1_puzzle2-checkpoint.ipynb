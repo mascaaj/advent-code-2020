{
 "cells": [
  {
   "cell_type": "code",
   "execution_count": 2,
   "metadata": {},
   "outputs": [],
   "source": [
    "import numpy as np\n",
    "import pandas as pd"
   ]
  },
  {
   "cell_type": "code",
   "execution_count": null,
   "metadata": {},
   "outputs": [
    {
     "name": "stdout",
     "output_type": "stream",
     "text": [
      "element1:593, element2:559,sum:2020,product287730716\n",
      "element1:593, element2:868,sum:2020,product287730716\n",
      "element1:559, element2:593,sum:2020,product287730716\n",
      "element1:559, element2:868,sum:2020,product287730716\n"
     ]
    }
   ],
   "source": [
    "df = pd.read_csv(\"../data/data.txt\")\n",
    "rows = df.shape[0]\n",
    "value = 0\n",
    "for row in range(0,rows):\n",
    "#     print(df.iloc[row,0])\n",
    "    for row2 in range(0,rows):\n",
    "#       print(df.iloc[row,0])\n",
    "#       value = df.iloc[row,0] + df.iloc[row2,0]\n",
    "        for row3 in range(0,rows):\n",
    "        #       print(df.iloc[row,0])\n",
    "                value = df.iloc[row,0] + df.iloc[row2,0] + df.iloc[row3,0]\n",
    "                if value == 2020:\n",
    "                    product = df.iloc[row,0] * df.iloc[row2,0] * df.iloc[row3,0]\n",
    "                    print(\"element1: {}, element2: {}, sum: {}, product: {}\".format(df.iloc[row,0],df.iloc[row2,0],value, product))\n",
    "        "
   ]
  }
 ],
 "metadata": {
  "kernelspec": {
   "display_name": "Python 3",
   "language": "python",
   "name": "python3"
  },
  "language_info": {
   "codemirror_mode": {
    "name": "ipython",
    "version": 3
   },
   "file_extension": ".py",
   "mimetype": "text/x-python",
   "name": "python",
   "nbconvert_exporter": "python",
   "pygments_lexer": "ipython3",
   "version": "3.7.9"
  }
 },
 "nbformat": 4,
 "nbformat_minor": 4
}
