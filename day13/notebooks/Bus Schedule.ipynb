{
 "cells": [
  {
   "cell_type": "code",
   "execution_count": 46,
   "metadata": {},
   "outputs": [],
   "source": [
    "import math\n",
    "from time import time\n",
    "import numpy as np\n",
    "import pandas as pd\n",
    "import re"
   ]
  },
  {
   "cell_type": "code",
   "execution_count": 85,
   "metadata": {},
   "outputs": [
    {
     "name": "stdout",
     "output_type": "stream",
     "text": [
      "['1005526', '37,x,x,x,x,x,x,x,x,x,x,x,x,x,x,x,x,x,x,x,x,x,x,x,x,x,x,41,x,x,x,x,x,x,x,x,x,587,x,x,x,x,x,x,x,x,x,x,x,x,x,x,x,x,x,13,19,x,x,x,23,x,x,x,x,x,29,x,733,x,x,x,x,x,x,x,x,x,x,x,x,x,x,x,x,17']\n",
      "1005526\n",
      "['37', 'x', 'x', 'x', 'x', 'x', 'x', 'x', 'x', 'x', 'x', 'x', 'x', 'x', 'x', 'x', 'x', 'x', 'x', 'x', 'x', 'x', 'x', 'x', 'x', 'x', 'x', '41', 'x', 'x', 'x', 'x', 'x', 'x', 'x', 'x', 'x', '587', 'x', 'x', 'x', 'x', 'x', 'x', 'x', 'x', 'x', 'x', 'x', 'x', 'x', 'x', 'x', 'x', 'x', '13', '19', 'x', 'x', 'x', '23', 'x', 'x', 'x', 'x', 'x', '29', 'x', '733', 'x', 'x', 'x', 'x', 'x', 'x', 'x', 'x', 'x', 'x', 'x', 'x', 'x', 'x', 'x', 'x', '17']\n"
     ]
    }
   ],
   "source": [
    "filename = \"../data/data.txt\"\n",
    "input_data = [i[:-1] for i in open(filename, \"r\").readlines()]\n",
    "print(input_data)\n",
    "\n",
    "ref_time = int(input_data[0])\n",
    "print(ref_time)\n",
    "bus_list = input_data[1].split(sep=\",\")\n",
    "print(bus_list)\n",
    "truth = []\n",
    "df = pd.DataFrame()\n",
    "for i in enumerate(bus_list):\n",
    "    if not i[1]==\"x\":\n",
    "#         print(i)\n",
    "        for j in range(ref_time-100,ref_time+100):\n",
    "#             print(j,j%int(i[1])==0)\n",
    "            a = j%int(i[1])\n",
    "            if a ==0:\n",
    "                truth.append(j)\n",
    "                \n",
    "\n",
    "# def solve(data):"
   ]
  },
  {
   "cell_type": "code",
   "execution_count": 90,
   "metadata": {
    "scrolled": true
   },
   "outputs": [
    {
     "name": "stdout",
     "output_type": "stream",
     "text": [
      "1005531\n",
      "[array([ 19,   0,   6,   7,  13,  17,  14, 588,  15])]\n"
     ]
    }
   ],
   "source": [
    "\n",
    "sorted_truth = np.sort(truth)\n",
    "earliest_bus = sorted_truth >= ref_time\n",
    "pos_bus = sorted_truth[earliest_bus][0]\n",
    "print(pos_bus)\n",
    "myList = [37,587,41,13,19,23,29,733,17]\n",
    "\n",
    "newList = [pos_bus%myList]\n",
    "print(newList)"
   ]
  },
  {
   "cell_type": "code",
   "execution_count": 76,
   "metadata": {},
   "outputs": [
    {
     "data": {
      "text/plain": [
       "2935"
      ]
     },
     "execution_count": 76,
     "metadata": {},
     "output_type": "execute_result"
    }
   ],
   "source": [
    "587*(1005531-ref_time)"
   ]
  },
  {
   "cell_type": "code",
   "execution_count": null,
   "metadata": {},
   "outputs": [],
   "source": [
    "t_start = time()\n",
    "\n",
    "part1, part2 = solve(input_data)\n",
    "print(\"Part 1: %d\" % part1)\n",
    "\n",
    "elapsed = 1000 * (time() - t_start)\n",
    "print(\"Time: %.3fms\" % elapsed)"
   ]
  }
 ],
 "metadata": {
  "kernelspec": {
   "display_name": "Python 3",
   "language": "python",
   "name": "python3"
  },
  "language_info": {
   "codemirror_mode": {
    "name": "ipython",
    "version": 3
   },
   "file_extension": ".py",
   "mimetype": "text/x-python",
   "name": "python",
   "nbconvert_exporter": "python",
   "pygments_lexer": "ipython3",
   "version": "3.7.9"
  }
 },
 "nbformat": 4,
 "nbformat_minor": 4
}
