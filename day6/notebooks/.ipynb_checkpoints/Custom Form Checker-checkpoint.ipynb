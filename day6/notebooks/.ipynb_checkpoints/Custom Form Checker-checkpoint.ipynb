{
 "cells": [
  {
   "cell_type": "code",
   "execution_count": null,
   "metadata": {},
   "outputs": [],
   "source": [
    "import math\n",
    "import numpy\n",
    "import pandas as pd"
   ]
  },
  {
   "cell_type": "code",
   "execution_count": 101,
   "metadata": {
    "scrolled": true
   },
   "outputs": [
    {
     "name": "stdout",
     "output_type": "stream",
     "text": [
      "total groups: 484\n",
      "total: 6585\n"
     ]
    }
   ],
   "source": [
    "filename = '../data/data.txt'\n",
    "\n",
    "def histogram(word):\n",
    "    d = dict()\n",
    "    for alphabet in word:\n",
    "        if alphabet not in d:\n",
    "            d[alphabet] = 1\n",
    "        else:\n",
    "            d[alphabet] += 1\n",
    "    return d\n",
    "\n",
    "with open(filename) as fn:\n",
    "    ln = fn.readline()\n",
    "    lncnt=0\n",
    "    counter=0\n",
    "    groupcounter=0\n",
    "    catword=\"\"\n",
    "    x=0\n",
    "    total=0\n",
    "    ocount =0\n",
    "    while ln:\n",
    "#         print(\"Line {}: {}\".format(lncnt, ln.strip()))\n",
    "        if not ln==\"\\n\":\n",
    "            counter+=1\n",
    "            ln=ln.strip(\"\\n\")\n",
    "#             print(counter)\n",
    "            catword = catword + ln\n",
    "        else:\n",
    "#             print(counter)\n",
    "#             print(catword)\n",
    "            h=histogram(catword)\n",
    "#             print(h)\n",
    "            ocount = len(h)\n",
    "#             print(ocount)\n",
    "            groupcounter+=1\n",
    "            counter=0\n",
    "            catword=\"\"\n",
    "            total = total + ocount\n",
    "        ln = fn.readline()\n",
    "        lncnt+=1\n",
    "    print(\"total groups:\",groupcounter)\n",
    "    print(\"total:\", total)"
   ]
  },
  {
   "cell_type": "code",
   "execution_count": 45,
   "metadata": {},
   "outputs": [
    {
     "name": "stdout",
     "output_type": "stream",
     "text": [
      "{'b': 3, 'c': 3, 'd': 3}\n"
     ]
    },
    {
     "data": {
      "text/plain": [
       "3"
      ]
     },
     "execution_count": 45,
     "metadata": {},
     "output_type": "execute_result"
    }
   ],
   "source": []
  }
 ],
 "metadata": {
  "kernelspec": {
   "display_name": "Python 3",
   "language": "python",
   "name": "python3"
  },
  "language_info": {
   "codemirror_mode": {
    "name": "ipython",
    "version": 3
   },
   "file_extension": ".py",
   "mimetype": "text/x-python",
   "name": "python",
   "nbconvert_exporter": "python",
   "pygments_lexer": "ipython3",
   "version": "3.7.9"
  }
 },
 "nbformat": 4,
 "nbformat_minor": 4
}
