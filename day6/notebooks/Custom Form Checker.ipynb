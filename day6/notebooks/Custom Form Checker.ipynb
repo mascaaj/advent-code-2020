{
 "cells": [
  {
   "cell_type": "code",
   "execution_count": null,
   "metadata": {},
   "outputs": [],
   "source": [
    "import math\n",
    "import numpy\n",
    "import pandas as pd"
   ]
  },
  {
   "cell_type": "code",
   "execution_count": 30,
   "metadata": {},
   "outputs": [
    {
     "name": "stdout",
     "output_type": "stream",
     "text": [
      "1\n",
      "a\n",
      "3\n",
      "abc\n",
      "2\n",
      "aa\n",
      "4\n",
      "aaaa\n",
      "1\n",
      "b\n",
      "total groups: 5\n"
     ]
    }
   ],
   "source": [
    "filename = '../data/test_data.txt'\n",
    "with open(filename) as fn:\n",
    "    ln = fn.readline()\n",
    "    lncnt=0\n",
    "    counter=0\n",
    "    groupcounter=0\n",
    "    catword=\"\"\n",
    "    while ln:\n",
    "#         print(\"Line {}: {}\".format(lncnt, ln.strip()))\n",
    "        if not ln==\"\\n\":\n",
    "            counter+=1\n",
    "#             print(counter)\n",
    "            catword = catword + ln[0]\n",
    "        else:\n",
    "            print(counter)\n",
    "            print(catword)\n",
    "            groupcounter+=1\n",
    "            counter=0\n",
    "            catword=\"\"\n",
    "        ln = fn.readline()\n",
    "        lncnt+=1\n",
    "    print(\"total groups:\",groupcounter)"
   ]
  }
 ],
 "metadata": {
  "kernelspec": {
   "display_name": "Python 3",
   "language": "python",
   "name": "python3"
  },
  "language_info": {
   "codemirror_mode": {
    "name": "ipython",
    "version": 3
   },
   "file_extension": ".py",
   "mimetype": "text/x-python",
   "name": "python",
   "nbconvert_exporter": "python",
   "pygments_lexer": "ipython3",
   "version": "3.7.9"
  }
 },
 "nbformat": 4,
 "nbformat_minor": 4
}
