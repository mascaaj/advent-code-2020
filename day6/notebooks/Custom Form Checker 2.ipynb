{
 "cells": [
  {
   "cell_type": "code",
   "execution_count": 1,
   "metadata": {},
   "outputs": [],
   "source": [
    "import math\n",
    "import numpy as np\n",
    "import pandas as pd"
   ]
  },
  {
   "cell_type": "code",
   "execution_count": 2,
   "metadata": {
    "scrolled": true
   },
   "outputs": [
    {
     "name": "stdout",
     "output_type": "stream",
     "text": [
      "total groups: 484\n",
      "total: 3276\n"
     ]
    }
   ],
   "source": [
    "filename = '../data/data.txt'\n",
    "\n",
    "def histogram(word):\n",
    "    \"\"\" Function to calculate histogram of letters in word\n",
    "    \"\"\"\n",
    "    d = dict()\n",
    "    for alphabet in word:\n",
    "        if alphabet not in d:\n",
    "            d[alphabet] = 1\n",
    "        else:\n",
    "            d[alphabet] += 1\n",
    "    return d\n",
    "\n",
    "def hist_val_check(hist,val,normalizer):\n",
    "    \"\"\" Function to ingest histogram,\n",
    "        Normalize based on max occurances\n",
    "        Find number of certain value in normalized array    \n",
    "    \"\"\"\n",
    "    histcount = np.fromiter(hist.values(),dtype=\"int\")\n",
    "    normalize = histcount/normalizer\n",
    "    occurance_count = np.count_nonzero(normalize == 1)\n",
    "    return occurance_count\n",
    "\n",
    "with open(filename) as fn:\n",
    "    ln = fn.readline()\n",
    "    [lncnt,counter,groupcounter]=[0,0,0]\n",
    "    [total,ocount]=[0,0]\n",
    "    catword=\"\"\n",
    "    while ln:\n",
    "        if not ln==\"\\n\":\n",
    "            counter+=1\n",
    "            ln=ln.strip(\"\\n\")\n",
    "            catword = catword + ln\n",
    "        else:\n",
    "            h=histogram(catword)\n",
    "            ocount = hist_val_check(h,1,counter)\n",
    "            groupcounter+=1\n",
    "            [counter,catword]=[0,\"\"]\n",
    "            total = total + ocount\n",
    "        ln = fn.readline()\n",
    "        lncnt+=1\n",
    "    print(\"total groups:\",groupcounter)\n",
    "    print(\"total:\", total)"
   ]
  },
  {
   "cell_type": "code",
   "execution_count": 25,
   "metadata": {},
   "outputs": [
    {
     "name": "stdout",
     "output_type": "stream",
     "text": [
      "{'b': 1, 'e': 3, 't': 1, 'l': 1}\n",
      "[0.33333333 1.         0.33333333 0.33333333]\n"
     ]
    }
   ],
   "source": [
    "g = histogram(\"beetle\")\n",
    "print(g)\n",
    "a = np.fromiter(g.values(),dtype=\"int\")\n",
    "print(a/3)"
   ]
  },
  {
   "cell_type": "code",
   "execution_count": 4,
   "metadata": {},
   "outputs": [
    {
     "name": "stdout",
     "output_type": "stream",
     "text": [
      "{'m': 1, 'a': 2, 'c': 1, 'u': 3, 'z': 2, 'i': 1, 'y': 1, 'w': 1, 'l': 1, 'b': 1, 'p': 2, 'o': 1, 'd': 1, 'g': 1, 'e': 1, 'v': 1, 'j': 1, 'n': 1, 's': 1, 'k': 1, 't': 1, 'r': 1}\n",
      "1\n"
     ]
    }
   ],
   "source": [
    "b = histogram(\"macuziywlbapodgevujnskptruz\")\n",
    "print(b)\n",
    "print(hist_val_check(b,1,3))"
   ]
  }
 ],
 "metadata": {
  "kernelspec": {
   "display_name": "Python 3",
   "language": "python",
   "name": "python3"
  },
  "language_info": {
   "codemirror_mode": {
    "name": "ipython",
    "version": 3
   },
   "file_extension": ".py",
   "mimetype": "text/x-python",
   "name": "python",
   "nbconvert_exporter": "python",
   "pygments_lexer": "ipython3",
   "version": "3.7.9"
  }
 },
 "nbformat": 4,
 "nbformat_minor": 4
}
