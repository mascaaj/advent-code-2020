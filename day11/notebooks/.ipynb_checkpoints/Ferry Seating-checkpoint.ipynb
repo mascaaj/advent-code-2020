{
 "cells": [
  {
   "cell_type": "code",
   "execution_count": 2,
   "metadata": {},
   "outputs": [],
   "source": [
    "import numpy as np\n",
    "import pandas as pd"
   ]
  },
  {
   "cell_type": "code",
   "execution_count": 23,
   "metadata": {},
   "outputs": [
    {
     "name": "stdout",
     "output_type": "stream",
     "text": [
      "         data\n",
      "0  L.LL.LL.LL\n",
      "1  LLLLLLL.LL\n",
      "2  L.L.L..L..\n",
      "3  LLLL.LL.LL\n",
      "4  L.LL.LL.LL\n",
      "5  L.LLLLL.LL\n",
      "6  ..L.L.....\n",
      "7  LLLLLLLLLL\n",
      "8  L.LLLLLL.L\n",
      "9  L.LLLLL.LL\n",
      "['L.LL.LL.LL' 'LLLLLLL.LL' 'L.L.L..L..' 'LLLL.LL.LL' 'L.LL.LL.LL'\n",
      " 'L.LLLLL.LL' '..L.L.....' 'LLLLLLLLLL' 'L.LLLLLL.L' 'L.LLLLL.LL']\n",
      "LL.LL\n",
      "L\n"
     ]
    }
   ],
   "source": [
    "colnames=['data']\n",
    "filename = \"../data/test_data.txt\"\n",
    "df = pd.read_csv(filename,names=colnames,header=None)\n",
    "print(df)\n",
    "data = np.loadtxt(filename, dtype=\"str\")\n",
    "print(data)\n",
    "with open(filename) as fn:\n",
    "    ln = fn.readline()\n",
    "    [lncnt,data_string,groupcounter]=[0,'',0]\n",
    "    while ln:\n",
    "        ln=ln.strip(\"\\n\")\n",
    "        data_string = data_string + ln\n",
    "        ln = fn.readline()\n",
    "        lncnt+=1\n",
    "print(data_string[5:12])"
   ]
  }
 ],
 "metadata": {
  "kernelspec": {
   "display_name": "Python 3",
   "language": "python",
   "name": "python3"
  },
  "language_info": {
   "codemirror_mode": {
    "name": "ipython",
    "version": 3
   },
   "file_extension": ".py",
   "mimetype": "text/x-python",
   "name": "python",
   "nbconvert_exporter": "python",
   "pygments_lexer": "ipython3",
   "version": "3.7.9"
  }
 },
 "nbformat": 4,
 "nbformat_minor": 4
}
