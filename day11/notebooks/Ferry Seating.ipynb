{
 "cells": [
  {
   "cell_type": "code",
   "execution_count": 2,
   "metadata": {},
   "outputs": [],
   "source": [
    "import numpy as np\n",
    "import pandas as pd"
   ]
  },
  {
   "cell_type": "code",
   "execution_count": 74,
   "metadata": {
    "scrolled": true
   },
   "outputs": [
    {
     "name": "stdout",
     "output_type": "stream",
     "text": [
      "L.LL.LL.LLLLLLLLL.LLL.L.L..L..LLLL.LL.LLL.LL.LL.LLL.LLLLL.LL..L.L.....LLLLLLLLLLL.LLLLLL.LL.LLLLL.LL\n"
     ]
    }
   ],
   "source": [
    "colnames=['data']\n",
    "filename = \"../data/test_data.txt\"\n",
    "# df = pd.read_csv(filename,names=colnames,header=None)\n",
    "# print(df)\n",
    "# data = np.loadtxt(filename, dtype=\"str\")\n",
    "# print(data)\n",
    "with open(filename) as fn:\n",
    "    ln = fn.readline()\n",
    "    row_length = len(ln)\n",
    "    [lncnt,data_string,groupcounter]=[0,'',0]\n",
    "    while ln:\n",
    "        ln=ln.strip(\"\\n\")\n",
    "        data_string = data_string + ln\n",
    "        ln = fn.readline()\n",
    "        lncnt+=1\n",
    "print(data_string)\n",
    "\n"
   ]
  },
  {
   "cell_type": "code",
   "execution_count": 69,
   "metadata": {},
   "outputs": [
    {
     "data": {
      "text/plain": [
       "'.'"
      ]
     },
     "execution_count": 69,
     "metadata": {},
     "output_type": "execute_result"
    }
   ],
   "source": [
    "data_string[]"
   ]
  },
  {
   "cell_type": "code",
   "execution_count": 122,
   "metadata": {},
   "outputs": [
    {
     "name": "stdout",
     "output_type": "stream",
     "text": [
      "#.##.##.#########.###.#.#..#..####.##.###.##.##.###.#####.##..#.#.....###########.######.LL.LLLLL.LL\n"
     ]
    }
   ],
   "source": [
    "buffer = data_string\n",
    "new_buffer = []\n",
    "# Function to convert   \n",
    "def listToString(s):  \n",
    "    \n",
    "    # initialize an empty string \n",
    "    str1 = \"\" \n",
    "    \n",
    "    # return string   \n",
    "    return (str1.join(s)) \n",
    "\n",
    "# for i in range(0,len(buffer)):\n",
    "#     print(buffer[i])\n",
    "#     if i <len(buffer)-1:\n",
    "#         cond1 = (buffer[i]==\"L\") and (buffer[i+1]==\"L\") and (buffer[i-1]==\"L\")\n",
    "#         cond2 = (buffer[i]==\"#\") and (buffer[i+4]==\"#\")\n",
    "#     if cond1:\n",
    "#         print(\"empty \",i)\n",
    "#         new_buffer.append(\"#\")\n",
    "#     elif cond2:\n",
    "#         new_buffer.append(\"L\")\n",
    "#     else:\n",
    "#         new_buffer.append(buffer[i])\n",
    "\n",
    "for i in range(0,len(buffer)):\n",
    "#     print(buffer[i])\n",
    "    count=0\n",
    "    if i <len(buffer)-row_length-1:\n",
    "        sub_array = [buffer[i],\n",
    "                     buffer[i+1],\n",
    "                     buffer[i-1],\n",
    "                     buffer[i+(row_length)],\n",
    "                     buffer[i-(row_length)],\n",
    "                     buffer[i+(row_length)+1],\n",
    "                     buffer[i-(row_length)+1],\n",
    "                     buffer[i+(row_length)-1],\n",
    "                     buffer[i-(row_length)-1]]\n",
    "#         print(sub_array)\n",
    "        for j in sub_array:\n",
    "#             print(j)\n",
    "            if j == \"L\" or j ==\".\":\n",
    "                count+=1\n",
    "            else:\n",
    "                break\n",
    "#     print(count)\n",
    "    if count==9:\n",
    "        if buffer[i] == \"L\":\n",
    "            new_buffer.append(\"#\")\n",
    "        else:\n",
    "            new_buffer.append(buffer[i])\n",
    "    else:\n",
    "        new_buffer.append(buffer[i])\n",
    "\n",
    "print(listToString(new_buffer))"
   ]
  },
  {
   "cell_type": "code",
   "execution_count": 88,
   "metadata": {},
   "outputs": [
    {
     "ename": "IndexError",
     "evalue": "too many indices for array: array is 0-dimensional, but 1 were indexed",
     "output_type": "error",
     "traceback": [
      "\u001b[0;31m---------------------------------------------------------------------------\u001b[0m",
      "\u001b[0;31mIndexError\u001b[0m                                Traceback (most recent call last)",
      "\u001b[0;32m<ipython-input-88-e021a73d0e5d>\u001b[0m in \u001b[0;36m<module>\u001b[0;34m\u001b[0m\n\u001b[1;32m      1\u001b[0m \u001b[0ma\u001b[0m\u001b[0;34m=\u001b[0m \u001b[0mnp\u001b[0m\u001b[0;34m.\u001b[0m\u001b[0marray\u001b[0m\u001b[0;34m(\u001b[0m\u001b[0mbuffer\u001b[0m\u001b[0;34m)\u001b[0m\u001b[0;34m\u001b[0m\u001b[0;34m\u001b[0m\u001b[0m\n\u001b[0;32m----> 2\u001b[0;31m \u001b[0mprint\u001b[0m\u001b[0;34m(\u001b[0m\u001b[0ma\u001b[0m\u001b[0;34m[\u001b[0m\u001b[0;36m1\u001b[0m\u001b[0;34m]\u001b[0m\u001b[0;34m)\u001b[0m\u001b[0;34m\u001b[0m\u001b[0;34m\u001b[0m\u001b[0m\n\u001b[0m",
      "\u001b[0;31mIndexError\u001b[0m: too many indices for array: array is 0-dimensional, but 1 were indexed"
     ]
    }
   ],
   "source": []
  }
 ],
 "metadata": {
  "kernelspec": {
   "display_name": "Python 3",
   "language": "python",
   "name": "python3"
  },
  "language_info": {
   "codemirror_mode": {
    "name": "ipython",
    "version": 3
   },
   "file_extension": ".py",
   "mimetype": "text/x-python",
   "name": "python",
   "nbconvert_exporter": "python",
   "pygments_lexer": "ipython3",
   "version": "3.7.9"
  }
 },
 "nbformat": 4,
 "nbformat_minor": 4
}
