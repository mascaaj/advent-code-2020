{
 "cells": [
  {
   "cell_type": "code",
   "execution_count": 2,
   "metadata": {},
   "outputs": [],
   "source": [
    "import numpy as np\n",
    "import pandas as pd\n",
    "import math"
   ]
  },
  {
   "cell_type": "code",
   "execution_count": 14,
   "metadata": {},
   "outputs": [
    {
     "name": "stdout",
     "output_type": "stream",
     "text": [
      "(11, 1)\n"
     ]
    }
   ],
   "source": [
    "colnames=['data'] \n",
    "df = pd.read_csv(\"../data/test_data.txt\",names=colnames,header=None)\n",
    "rows = df.shape[0]\n",
    "\n",
    "# df['data_cat']=df['data']*rows\n",
    "print(df.shape)"
   ]
  },
  {
   "cell_type": "code",
   "execution_count": 9,
   "metadata": {
    "scrolled": true
   },
   "outputs": [],
   "source": [
    "a= df.iloc[0,0]"
   ]
  },
  {
   "cell_type": "code",
   "execution_count": 21,
   "metadata": {},
   "outputs": [
    {
     "data": {
      "text/plain": [
       "66"
      ]
     },
     "execution_count": 21,
     "metadata": {},
     "output_type": "execute_result"
    }
   ],
   "source": [
    "len(a)"
   ]
  },
  {
   "cell_type": "code",
   "execution_count": 35,
   "metadata": {
    "scrolled": false
   },
   "outputs": [
    {
     "name": "stdout",
     "output_type": "stream",
     "text": [
      "2\n"
     ]
    }
   ],
   "source": [
    "newcheck =0\n",
    "count = -1\n",
    "col_offset = 1\n",
    "row_offset = 2\n",
    "rowlength = 66\n",
    "flag = 0\n",
    "newcheck=newcheck + col_offset + (row_offset*rowlength) \n",
    "for row in range(0,rows):\n",
    "    a = df.iloc[row,0]\n",
    "#     print(row)\n",
    "    for l in a:\n",
    "        count=count+1\n",
    "#         print(l,count, newcheck)\n",
    "        if newcheck == count:\n",
    "            newcheck = newcheck + (row_offset*rowlength) + col_offset\n",
    "            if l == '#':\n",
    "                flag = flag +1\n",
    "                \n",
    "print(flag)"
   ]
  },
  {
   "cell_type": "code",
   "execution_count": 60,
   "metadata": {},
   "outputs": [
    {
     "data": {
      "text/plain": [
       "17646449724"
      ]
     },
     "execution_count": 60,
     "metadata": {},
     "output_type": "execute_result"
    }
   ],
   "source": [
    "81*292*89*101*83\n",
    "2, 7, 3, 4, and 2"
   ]
  }
 ],
 "metadata": {
  "kernelspec": {
   "display_name": "Python 3",
   "language": "python",
   "name": "python3"
  },
  "language_info": {
   "codemirror_mode": {
    "name": "ipython",
    "version": 3
   },
   "file_extension": ".py",
   "mimetype": "text/x-python",
   "name": "python",
   "nbconvert_exporter": "python",
   "pygments_lexer": "ipython3",
   "version": "3.7.9"
  }
 },
 "nbformat": 4,
 "nbformat_minor": 4
}
