{
 "cells": [
  {
   "cell_type": "code",
   "execution_count": 2,
   "metadata": {},
   "outputs": [],
   "source": [
    "import pandas as pd\n",
    "import numpy as np"
   ]
  },
  {
   "cell_type": "code",
   "execution_count": 3,
   "metadata": {},
   "outputs": [
    {
     "name": "stdout",
     "output_type": "stream",
     "text": [
      "    min_limits constraint                   pwd max_lim count\n",
      "0            9          p         pppppppppxblp      11    10\n",
      "1            2          b                 bbxbb       4     4\n",
      "2            3          q                 dqfqb       5     2\n",
      "3            5          g             ggcgggglg       8     7\n",
      "4           10          l  gllpmlgtrmnllhllrlll      18    10\n",
      "..         ...        ...                   ...     ...   ...\n",
      "995         10          t          hnjdfgrhtgkl      12     1\n",
      "996          2          d               dbddddc       4     5\n",
      "997         13          g      gggggggbgggmgmgm      14    12\n",
      "998          4          r         rrrzrgkrrrrkr      12     9\n",
      "999         14          n   nnhnnnnnnnnnnnnnhnn      17    17\n",
      "\n",
      "[1000 rows x 5 columns]\n"
     ]
    }
   ],
   "source": [
    "colnames=['min_limits', 'constraint', 'pwd'] \n",
    "df = pd.read_csv(\"../data/data.txt\",sep=\" \",names=colnames, header=None)\n",
    "df[['min_limits','max_lim']] = df['min_limits'].str.split('-',expand=True)\n",
    "df[['constraint','count']] = df['constraint'].str.split(':',expand=True)\n",
    "count =0\n",
    "rows = df.shape[0]\n",
    "for row in range(0,rows):\n",
    "#     print(df.iloc[row,2])\n",
    "    count=0\n",
    "    for x in df.iloc[row,2]:\n",
    "        if x==df.iloc[row,1]:\n",
    "            count=count +1\n",
    "#     print(count)\n",
    "    df.iloc[row,4]= count\n",
    "print(df)\n",
    "df['min_limits'] = pd.to_numeric(df['min_limits'])\n",
    "df['max_lim'] = pd.to_numeric(df['max_lim'])\n",
    "df['count'] = pd.to_numeric(df['count'])"
   ]
  },
  {
   "cell_type": "code",
   "execution_count": 76,
   "metadata": {},
   "outputs": [
    {
     "name": "stdout",
     "output_type": "stream",
     "text": [
      "628\n"
     ]
    }
   ],
   "source": [
    "counter=0\n",
    "for row in range(0,rows):\n",
    "    if df.iloc[row,4]<=df.iloc[row,3] and df.iloc[row,4]>=df.iloc[row,0]:\n",
    "        counter=counter+1\n",
    "    else:\n",
    "        pass\n",
    "print(counter)\n"
   ]
  },
  {
   "cell_type": "code",
   "execution_count": null,
   "metadata": {},
   "outputs": [],
   "source": []
  }
 ],
 "metadata": {
  "kernelspec": {
   "display_name": "Python 3",
   "language": "python",
   "name": "python3"
  },
  "language_info": {
   "codemirror_mode": {
    "name": "ipython",
    "version": 3
   },
   "file_extension": ".py",
   "mimetype": "text/x-python",
   "name": "python",
   "nbconvert_exporter": "python",
   "pygments_lexer": "ipython3",
   "version": "3.7.9"
  }
 },
 "nbformat": 4,
 "nbformat_minor": 4
}
