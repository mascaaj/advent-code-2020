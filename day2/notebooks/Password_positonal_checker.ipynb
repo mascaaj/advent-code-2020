{
 "cells": [
  {
   "cell_type": "code",
   "execution_count": 2,
   "metadata": {},
   "outputs": [],
   "source": [
    "import pandas as pd\n",
    "import numpy as np"
   ]
  },
  {
   "cell_type": "code",
   "execution_count": 29,
   "metadata": {},
   "outputs": [
    {
     "name": "stdout",
     "output_type": "stream",
     "text": [
      "  min_limits constraint                   pwd max_lim count\n",
      "0          9          p         pppppppppxblp      11    10\n",
      "1          2          b                 bbxbb       4     4\n",
      "2          3          q                 dqfqb       5     2\n",
      "3          5          g             ggcgggglg       8     7\n",
      "4         10          l  gllpmlgtrmnllhllrlll      18    10\n",
      "5         18          z  zzzzznszzzzzzzzzzzxz      19    17\n",
      "6          3          r          frrhxsnrmgmw       6     3\n",
      "7          1          n          zkxhnxnzghnm       8     3\n",
      "8         11          z       zzczzzztlzlzzzz      12    11\n",
      "9          4          q             qqqbncqqq       7     6\n"
     ]
    }
   ],
   "source": [
    "colnames=['min_limits', 'constraint', 'pwd'] \n",
    "df = pd.read_csv(\"../data/data.txt\",sep=\" \",names=colnames, header=None)\n",
    "df[['min_limits','max_lim']] = df['min_limits'].str.split('-',expand=True)\n",
    "df[['constraint','count']] = df['constraint'].str.split(':',expand=True)\n",
    "count =0\n",
    "rows = df.shape[0]\n",
    "for row in range(0,rows):\n",
    "#     print(df.iloc[row,2])\n",
    "    count=0\n",
    "    for x in df.iloc[row,2]:\n",
    "        if x==df.iloc[row,1]:\n",
    "            count=count +1\n",
    "#     print(count)\n",
    "    df.iloc[row,4]= count\n",
    "print(df.head(10))\n",
    "df['min_limits'] = pd.to_numeric(df['min_limits'])\n",
    "df['max_lim'] = pd.to_numeric(df['max_lim'])\n",
    "df['count'] = pd.to_numeric(df['count'])"
   ]
  },
  {
   "cell_type": "code",
   "execution_count": 34,
   "metadata": {},
   "outputs": [
    {
     "name": "stdout",
     "output_type": "stream",
     "text": [
      "705\n"
     ]
    }
   ],
   "source": [
    "counter2=0\n",
    "for row in range(0,rows):\n",
    "# for row in range(0,10):\n",
    "#     print(df.iloc[row,2])\n",
    "    counter1=0\n",
    "    flag=0\n",
    "    for x in df.iloc[row,2]:\n",
    "#         print(\"x1\",x)\n",
    "        counter1 = counter1 +1\n",
    "#         print(counter1)\n",
    "        if x==df.iloc[row,1]:\n",
    "            if counter1==df.iloc[row,0]:\n",
    "                flag=flag+1\n",
    "            elif counter1==df.iloc[row,3]:\n",
    "                flag=flag+1\n",
    "            else:\n",
    "                pass\n",
    "#         print(flag)\n",
    "    if flag==1:\n",
    "        counter2=counter2+1\n",
    "print(counter2)"
   ]
  },
  {
   "cell_type": "code",
   "execution_count": null,
   "metadata": {},
   "outputs": [],
   "source": []
  }
 ],
 "metadata": {
  "kernelspec": {
   "display_name": "Python 3",
   "language": "python",
   "name": "python3"
  },
  "language_info": {
   "codemirror_mode": {
    "name": "ipython",
    "version": 3
   },
   "file_extension": ".py",
   "mimetype": "text/x-python",
   "name": "python",
   "nbconvert_exporter": "python",
   "pygments_lexer": "ipython3",
   "version": "3.7.9"
  }
 },
 "nbformat": 4,
 "nbformat_minor": 4
}
