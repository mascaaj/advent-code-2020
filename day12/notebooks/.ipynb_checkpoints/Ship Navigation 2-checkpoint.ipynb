{
 "cells": [
  {
   "cell_type": "code",
   "execution_count": 56,
   "metadata": {},
   "outputs": [],
   "source": [
    "import numpy as np\n",
    "import pandas as pd\n",
    "import math\n",
    "import re\n",
    "from time import time"
   ]
  },
  {
   "cell_type": "code",
   "execution_count": 133,
   "metadata": {},
   "outputs": [],
   "source": [
    "filename = \"../data/data.txt\"\n",
    "data = [i[:-1] for i in open(filename, \"r\").readlines()]\n",
    "\n",
    "def direction_test(direction,value):\n",
    "    #Test for direction, add to respective direction\n",
    "    [x,y]=[0,0]\n",
    "    if direction==\"N\":\n",
    "        y=y+int(value)\n",
    "    elif direction==\"S\":\n",
    "        y=y-int(value)\n",
    "    elif direction==\"E\":\n",
    "        x=x+int(value)\n",
    "    elif direction==\"W\":\n",
    "        x=x-int(value)\n",
    "    return x,y\n",
    "\n",
    "def rotation_test(rot_dir,current_theta,rot_mag):\n",
    "    rotate = {\n",
    "            -270 : \"S\",\n",
    "            -180 : \"W\",\n",
    "            -90 : \"N\",\n",
    "              0 : \"E\",\n",
    "             90 : \"S\",\n",
    "            180 : \"W\",\n",
    "            270 : \"N\"\n",
    "            }\n",
    "    if rot_dir==\"R\":\n",
    "        current_theta = current_theta + int(rot_mag)\n",
    "        if current_theta >= 360:\n",
    "            current_theta=current_theta-360\n",
    "    elif rot_dir==\"L\":\n",
    "        current_theta = current_theta - int(rot_mag)\n",
    "        if current_theta <= -360:\n",
    "            current_theta=current_theta+360\n",
    "    new_direction = rotate[current_theta]\n",
    "    flag=1\n",
    "    return new_direction,flag,current_theta\n",
    "    \n",
    "def solve(data):\n",
    "    #initialization\n",
    "    [x,y]=[0,0]\n",
    "    theta = 0\n",
    "    #dictionary for cardinal directions\n",
    "\n",
    "    direction=\" \"\n",
    "    last_direction=\"E\"\n",
    "    new_direction=\" \"\n",
    "    flag = 0\n",
    "    for i in enumerate(data):\n",
    "        if flag==1:\n",
    "            direction = new_direction\n",
    "            flag = 0\n",
    "            last_direction = new_direction\n",
    "        else:\n",
    "            direction =  last_direction\n",
    "        match = re.match(r\"([A-Z])([0-9]+)\", i[1], re.I)\n",
    "        items = match.groups()\n",
    "        #test for rotation:\n",
    "        if items[0]==\"R\" or items[0]==\"L\":\n",
    "            new_direction,flag,theta = rotation_test(items[0],theta,items[1])\n",
    "\n",
    "        if items[0]==\"F\":\n",
    "            xp,yp = direction_test(direction,items[1])\n",
    "            [x,y]=[x+xp,y+yp]\n",
    "        elif items[0]!=\"R\" or items[0]!=\"L\":\n",
    "            direction = items[0]\n",
    "            xp,yp = direction_test(direction,items[1])\n",
    "            [x,y]=[x+xp,y+yp]\n",
    "        \n",
    "    return (abs(x)+abs(y)), 0"
   ]
  },
  {
   "cell_type": "code",
   "execution_count": 156,
   "metadata": {},
   "outputs": [
    {
     "name": "stdout",
     "output_type": "stream",
     "text": [
      "Part 1: 364\n",
      "Part 2: 0\n",
      "Time: 7.058ms\n"
     ]
    }
   ],
   "source": [
    "t_start = time()\n",
    "\n",
    "part1, part2 = solve(data)\n",
    "print(\"Part 1: %d\" % part1)\n",
    "print(\"Part 2: %d\" % part2)\n",
    "\n",
    "elapsed = 1000 * (time() - t_start)\n",
    "print(\"Time: %.3fms\" % elapsed)"
   ]
  },
  {
   "cell_type": "code",
   "execution_count": 28,
   "metadata": {},
   "outputs": [
    {
     "data": {
      "text/plain": [
       "'N'"
      ]
     },
     "execution_count": 28,
     "metadata": {},
     "output_type": "execute_result"
    }
   ],
   "source": []
  }
 ],
 "metadata": {
  "kernelspec": {
   "display_name": "Python 3",
   "language": "python",
   "name": "python3"
  },
  "language_info": {
   "codemirror_mode": {
    "name": "ipython",
    "version": 3
   },
   "file_extension": ".py",
   "mimetype": "text/x-python",
   "name": "python",
   "nbconvert_exporter": "python",
   "pygments_lexer": "ipython3",
   "version": "3.7.9"
  }
 },
 "nbformat": 4,
 "nbformat_minor": 4
}
