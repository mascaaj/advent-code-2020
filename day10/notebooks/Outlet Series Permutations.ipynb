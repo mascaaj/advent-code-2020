{
 "cells": [
  {
   "cell_type": "code",
   "execution_count": 2,
   "metadata": {},
   "outputs": [],
   "source": [
    "import numpy as np\n",
    "import pandas as pd\n",
    "from itertools import combinations"
   ]
  },
  {
   "cell_type": "code",
   "execution_count": 3,
   "metadata": {
    "scrolled": true
   },
   "outputs": [
    {
     "name": "stdout",
     "output_type": "stream",
     "text": [
      "[16. 10. 15.  5.  1. 11.  7. 19.  6. 12.  4.]\n"
     ]
    }
   ],
   "source": [
    "filename = \"../data/test_data.txt\"\n",
    "data = np.genfromtxt(filename, delimiter=',')\n",
    "print(data)"
   ]
  },
  {
   "cell_type": "code",
   "execution_count": 4,
   "metadata": {
    "scrolled": true
   },
   "outputs": [],
   "source": [
    "result_array=[0]\n",
    "diff_array = []\n",
    "last_val=0\n",
    "data = np.sort(data)\n",
    "\n",
    "while len(result_array) < len(data):\n",
    "#     print(len(result_array))\n",
    "    for i in enumerate(data):\n",
    "#         print(last_val)\n",
    "#         print\n",
    "        diff = i[1] - last_val\n",
    "#         print(diff)\n",
    "        if diff == 1:\n",
    "#             print(\"loop1\")\n",
    "            last_val = i[1]\n",
    "            result_array.append(last_val)\n",
    "            diff_array.append(diff)\n",
    "            pass\n",
    "        else:\n",
    "            if diff == 2:\n",
    "#                 print(\"loop2\")\n",
    "                last_val = i[1]\n",
    "                result_array.append(last_val)\n",
    "                diff_array.append(diff)\n",
    "                pass\n",
    "            else:\n",
    "                if diff == 3:\n",
    "#                     print(\"loop3\")\n",
    "                    last_val = i[1]\n",
    "                    result_array.append(last_val)\n",
    "                    diff_array.append(diff)\n",
    "                    pass\n",
    "                else:\n",
    "                    pass\n",
    "                        \n",
    "result_array.append(last_val+3)\n",
    "diff_array.append(3.0)\n",
    "\n",
    "\n",
    "# b,c = np.unique(diff_array,return_counts=True)\n",
    "# print(result_array)\n",
    "# print(diff_array)\n",
    "# print(\"1 counts:\", c[1])\n",
    "# print(\"3 counts:\", c[2])\n",
    "# product = c[1] * (c[2])\n",
    "# print(product)"
   ]
  },
  {
   "cell_type": "code",
   "execution_count": 5,
   "metadata": {},
   "outputs": [
    {
     "name": "stdout",
     "output_type": "stream",
     "text": [
      "Elements with value 1 exists at following indices\n",
      "[0 2 3 4 6 7 9]\n",
      "9\n"
     ]
    }
   ],
   "source": [
    "result = np.where(np.asarray(diff_array)==1.0)\n",
    "print(\"Elements with value 1 exists at following indices\", result[0], sep='\\n')\n",
    "print(result[0][-1])"
   ]
  },
  {
   "cell_type": "code",
   "execution_count": 16,
   "metadata": {},
   "outputs": [
    {
     "name": "stdout",
     "output_type": "stream",
     "text": [
      "count: 0\n",
      "[ 4.  5.  6.  7. 10. 11. 12. 15. 16. 19.]\n",
      "4.0\n",
      "count: 0\n",
      "[ 1.  4.  6.  7. 10. 11. 12. 15. 16. 19.]\n",
      "1.0\n",
      "loop1\n",
      "count: 0\n",
      "[ 1.  4.  5.  7. 10. 11. 12. 15. 16. 19.]\n",
      "1.0\n",
      "loop1\n",
      "count: 0\n",
      "[ 1.  4.  5.  6. 10. 11. 12. 15. 16. 19.]\n",
      "1.0\n",
      "loop1\n",
      "count: 0\n",
      "[ 1.  4.  5.  6.  7. 10. 12. 15. 16. 19.]\n",
      "1.0\n",
      "loop1\n",
      "count: 0\n",
      "[ 1.  4.  5.  6.  7. 10. 11. 15. 16. 19.]\n",
      "1.0\n",
      "loop1\n",
      "count: 0\n",
      "[ 1.  4.  5.  6.  7. 10. 11. 12. 15. 19.]\n",
      "1.0\n",
      "loop1\n",
      "0\n"
     ]
    }
   ],
   "source": [
    "index=0\n",
    "j=0\n",
    "count=0\n",
    "count_array = [0]\n",
    "test_val = result_array[-1]\n",
    "last_val=0\n",
    "# data=np.asarray(data)\n",
    "while index<result[0][-1]:\n",
    "    if count_array[-1]==test_val:\n",
    "        count=count+1\n",
    "    print(\"count:\",count)\n",
    "    index = result[0][j]\n",
    "    j+=1\n",
    "    count_array=[0]\n",
    "    last_val=0\n",
    "    new_data = np.delete(data,index)\n",
    "    print(new_data)\n",
    "    while last_val != new_data[-1]:\n",
    "#         print(len(count_array))\n",
    "        for i in enumerate(new_data):\n",
    "#             print(last_val)\n",
    "#             print(i[1])\n",
    "            diff = i[1] - last_val\n",
    "            print(diff)\n",
    "            if diff == 1:\n",
    "                print(\"loop1\")\n",
    "                last_val = i[1]\n",
    "                count_array.append(last_val)\n",
    "                diff_array.append(diff)\n",
    "                pass\n",
    "            else:\n",
    "                if diff == 2:\n",
    "                    print(\"loop2\")\n",
    "                    last_val = i[1]\n",
    "                    count_array.append(last_val)\n",
    "                    diff_array.append(diff)\n",
    "                    pass\n",
    "                else:\n",
    "                    if diff == 3:\n",
    "                        print(\"loop3\")\n",
    "                        last_val = i[1]\n",
    "                        count_array.append(last_val)\n",
    "                        diff_array.append(diff)\n",
    "                        pass\n",
    "            break\n",
    "        break\n",
    "print(count)"
   ]
  },
  {
   "cell_type": "markdown",
   "metadata": {},
   "source": [
    "### "
   ]
  }
 ],
 "metadata": {
  "kernelspec": {
   "display_name": "Python 3",
   "language": "python",
   "name": "python3"
  },
  "language_info": {
   "codemirror_mode": {
    "name": "ipython",
    "version": 3
   },
   "file_extension": ".py",
   "mimetype": "text/x-python",
   "name": "python",
   "nbconvert_exporter": "python",
   "pygments_lexer": "ipython3",
   "version": "3.7.9"
  }
 },
 "nbformat": 4,
 "nbformat_minor": 4
}
