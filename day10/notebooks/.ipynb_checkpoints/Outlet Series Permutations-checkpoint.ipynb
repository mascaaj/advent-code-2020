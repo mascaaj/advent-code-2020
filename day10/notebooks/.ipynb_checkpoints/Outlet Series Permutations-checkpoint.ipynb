{
 "cells": [
  {
   "cell_type": "code",
   "execution_count": 1,
   "metadata": {},
   "outputs": [],
   "source": [
    "import numpy as np\n",
    "import pandas as pd\n",
    "from itertools import combinations"
   ]
  },
  {
   "cell_type": "code",
   "execution_count": 13,
   "metadata": {
    "scrolled": true
   },
   "outputs": [
    {
     "name": "stdout",
     "output_type": "stream",
     "text": [
      "[28. 33. 18. 42. 31. 14. 46. 20. 48. 47. 24. 23. 49. 45. 19. 38. 39. 11.\n",
      "  1. 32. 25. 35.  8. 17.  7.  9.  4.  2. 34. 10.  3.]\n"
     ]
    }
   ],
   "source": [
    "filename = \"../data/test_data2.txt\"\n",
    "data = np.genfromtxt(filename, delimiter=',')\n",
    "print(data)"
   ]
  },
  {
   "cell_type": "code",
   "execution_count": 14,
   "metadata": {
    "scrolled": true
   },
   "outputs": [
    {
     "name": "stdout",
     "output_type": "stream",
     "text": [
      "[0, 1.0, 2.0, 3.0, 4.0, 7.0, 8.0, 9.0, 10.0, 11.0, 14.0, 17.0, 18.0, 19.0, 20.0, 23.0, 24.0, 25.0, 28.0, 31.0, 32.0, 33.0, 34.0, 35.0, 38.0, 39.0, 42.0, 45.0, 46.0, 47.0, 48.0, 49.0, 52.0]\n",
      "[0, 1.0, 1.0, 1.0, 1.0, 3.0, 1.0, 1.0, 1.0, 1.0, 3.0, 3.0, 1.0, 1.0, 1.0, 3.0, 1.0, 1.0, 3.0, 3.0, 1.0, 1.0, 1.0, 1.0, 3.0, 1.0, 3.0, 3.0, 1.0, 1.0, 1.0, 1.0, 3.0]\n",
      "1 counts: 22\n",
      "3 counts: 10\n",
      "220\n"
     ]
    }
   ],
   "source": [
    "result_array=[0]\n",
    "diff_array = [0]\n",
    "last_val=0\n",
    "data = np.sort(data)\n",
    "\n",
    "while len(result_array) < len(data):\n",
    "#     print(len(result_array))\n",
    "    for i in enumerate(data):\n",
    "#         print(last_val)\n",
    "#         print\n",
    "        diff = i[1] - last_val\n",
    "#         print(diff)\n",
    "        if diff == 1:\n",
    "#             print(\"loop1\")\n",
    "            last_val = i[1]\n",
    "            result_array.append(last_val)\n",
    "            diff_array.append(diff)\n",
    "            pass\n",
    "        else:\n",
    "            if diff == 2:\n",
    "#                 print(\"loop2\")\n",
    "                last_val = i[1]\n",
    "                result_array.append(last_val)\n",
    "                diff_array.append(diff)\n",
    "                pass\n",
    "            else:\n",
    "                if diff == 3:\n",
    "#                     print(\"loop3\")\n",
    "                    last_val = i[1]\n",
    "                    result_array.append(last_val)\n",
    "                    diff_array.append(diff)\n",
    "                    pass\n",
    "                else:\n",
    "                    pass\n",
    "                        \n",
    "result_array.append(last_val+3)\n",
    "diff_array.append(3.0)\n",
    "\n",
    "\n",
    "# b,c = np.unique(diff_array,return_counts=True)\n",
    "# print(result_array)\n",
    "# print(diff_array)\n",
    "# print(\"1 counts:\", c[1])\n",
    "# print(\"3 counts:\", c[2])\n",
    "# product = c[1] * (c[2])\n",
    "# print(product)"
   ]
  },
  {
   "cell_type": "code",
   "execution_count": 22,
   "metadata": {},
   "outputs": [
    {
     "name": "stdout",
     "output_type": "stream",
     "text": [
      "Elements with value 1 exists at following indices\n",
      "[ 1  2  3  4  6  7  8  9 12 13 14 16 17 20 21 22 23 25 28 29 30 31]\n",
      "31\n"
     ]
    }
   ],
   "source": [
    "result = np.where(np.asarray(diff_array)==1.0)\n",
    "print(\"Elements with value 1 exists at following indices\", result[0], sep='\\n')\n",
    "print(result[0][-1])"
   ]
  },
  {
   "cell_type": "code",
   "execution_count": 21,
   "metadata": {},
   "outputs": [
    {
     "ename": "SyntaxError",
     "evalue": "invalid syntax (<ipython-input-21-592a2c608392>, line 1)",
     "output_type": "error",
     "traceback": [
      "\u001b[0;36m  File \u001b[0;32m\"<ipython-input-21-592a2c608392>\"\u001b[0;36m, line \u001b[0;32m1\u001b[0m\n\u001b[0;31m    while index<=result[0][-1]\u001b[0m\n\u001b[0m                              ^\u001b[0m\n\u001b[0;31mSyntaxError\u001b[0m\u001b[0;31m:\u001b[0m invalid syntax\n"
     ]
    }
   ],
   "source": [
    "index=0\n",
    "while index<=result[0][-1]:"
   ]
  },
  {
   "cell_type": "markdown",
   "metadata": {},
   "source": [
    "### "
   ]
  }
 ],
 "metadata": {
  "kernelspec": {
   "display_name": "Python 3",
   "language": "python",
   "name": "python3"
  },
  "language_info": {
   "codemirror_mode": {
    "name": "ipython",
    "version": 3
   },
   "file_extension": ".py",
   "mimetype": "text/x-python",
   "name": "python",
   "nbconvert_exporter": "python",
   "pygments_lexer": "ipython3",
   "version": "3.7.9"
  }
 },
 "nbformat": 4,
 "nbformat_minor": 4
}
