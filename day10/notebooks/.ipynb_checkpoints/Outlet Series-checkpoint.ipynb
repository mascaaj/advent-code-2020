{
 "cells": [
  {
   "cell_type": "code",
   "execution_count": 1,
   "metadata": {},
   "outputs": [],
   "source": [
    "import numpy as np\n",
    "import pandas as pd\n",
    "from itertools import combinations"
   ]
  },
  {
   "cell_type": "code",
   "execution_count": 3,
   "metadata": {
    "scrolled": true
   },
   "outputs": [
    {
     "name": "stdout",
     "output_type": "stream",
     "text": [
      "[16. 10. 15.  5.  1. 11.  7. 19.  6. 12.  4.]\n"
     ]
    }
   ],
   "source": [
    "filename = \"../data/test_data.txt\"\n",
    "data = np.genfromtxt(filename, delimiter=',')\n",
    "print(data)"
   ]
  },
  {
   "cell_type": "code",
   "execution_count": 20,
   "metadata": {
    "scrolled": true
   },
   "outputs": [
    {
     "name": "stdout",
     "output_type": "stream",
     "text": [
      "16.0\n",
      "10.0\n",
      "15.0\n",
      "5.0\n",
      "1.0\n",
      "11.0\n",
      "7.0\n",
      "19.0\n",
      "6.0\n",
      "12.0\n",
      "4.0\n",
      "16.0\n",
      "10.0\n",
      "15.0\n",
      "5.0\n",
      "1.0\n",
      "11.0\n",
      "7.0\n",
      "19.0\n",
      "6.0\n",
      "12.0\n",
      "4.0\n",
      "16.0\n",
      "10.0\n",
      "15.0\n",
      "5.0\n",
      "1.0\n",
      "11.0\n",
      "7.0\n",
      "19.0\n",
      "6.0\n",
      "12.0\n",
      "4.0\n",
      "16.0\n",
      "10.0\n",
      "15.0\n",
      "5.0\n",
      "1.0\n",
      "11.0\n",
      "7.0\n",
      "19.0\n",
      "6.0\n",
      "12.0\n",
      "4.0\n",
      "16.0\n",
      "10.0\n",
      "15.0\n",
      "5.0\n",
      "1.0\n",
      "11.0\n",
      "7.0\n",
      "19.0\n",
      "6.0\n",
      "12.0\n",
      "4.0\n",
      "16.0\n",
      "10.0\n",
      "15.0\n",
      "5.0\n",
      "1.0\n",
      "11.0\n",
      "7.0\n",
      "19.0\n",
      "6.0\n",
      "12.0\n",
      "4.0\n",
      "16.0\n",
      "10.0\n",
      "15.0\n",
      "5.0\n",
      "1.0\n",
      "11.0\n",
      "7.0\n",
      "19.0\n",
      "6.0\n",
      "12.0\n",
      "4.0\n",
      "16.0\n",
      "10.0\n",
      "15.0\n",
      "5.0\n",
      "1.0\n",
      "11.0\n",
      "7.0\n",
      "19.0\n",
      "6.0\n",
      "12.0\n",
      "4.0\n",
      "16.0\n",
      "10.0\n",
      "15.0\n",
      "5.0\n",
      "1.0\n",
      "11.0\n",
      "7.0\n",
      "19.0\n",
      "6.0\n",
      "12.0\n",
      "4.0\n",
      "16.0\n",
      "10.0\n",
      "15.0\n",
      "5.0\n",
      "1.0\n",
      "11.0\n",
      "7.0\n",
      "19.0\n",
      "6.0\n",
      "12.0\n",
      "4.0\n",
      "16.0\n",
      "10.0\n",
      "15.0\n",
      "5.0\n",
      "1.0\n",
      "11.0\n",
      "7.0\n",
      "19.0\n",
      "6.0\n",
      "12.0\n",
      "4.0\n",
      "[0, 0, 0, 0, 0, 0, 0, 0, 0, 0, 0]\n"
     ]
    }
   ],
   "source": [
    "result_array=[]\n",
    "last_val=0\n",
    "while len(result_array) < len(data):\n",
    "#     print(len(result_array))\n",
    "    for i in enumerate(data):\n",
    "        print(last_val)\n",
    "        diff = i[1] - last_val\n",
    "        print(diff)\n",
    "        if diff == 1:\n",
    "            lastval = i[1]\n",
    "            result_array.append(last_val)\n",
    "        else:\n",
    "            if diff == 2:\n",
    "                lastval = i[1]\n",
    "                result_array.append(last_val)\n",
    "            else:\n",
    "                if diff == 3:\n",
    "                    lastval = i[1]\n",
    "                    result_array.append(last_val)\n",
    "                else:\n",
    "                    pass\n",
    "                        \n",
    "print(result_array)"
   ]
  },
  {
   "cell_type": "code",
   "execution_count": 17,
   "metadata": {},
   "outputs": [
    {
     "data": {
      "text/plain": [
       "11"
      ]
     },
     "execution_count": 17,
     "metadata": {},
     "output_type": "execute_result"
    }
   ],
   "source": [
    "len(data)"
   ]
  }
 ],
 "metadata": {
  "kernelspec": {
   "display_name": "Python 3",
   "language": "python",
   "name": "python3"
  },
  "language_info": {
   "codemirror_mode": {
    "name": "ipython",
    "version": 3
   },
   "file_extension": ".py",
   "mimetype": "text/x-python",
   "name": "python",
   "nbconvert_exporter": "python",
   "pygments_lexer": "ipython3",
   "version": "3.7.9"
  }
 },
 "nbformat": 4,
 "nbformat_minor": 4
}
