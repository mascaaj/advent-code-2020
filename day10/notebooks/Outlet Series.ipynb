{
 "cells": [
  {
   "cell_type": "code",
   "execution_count": 1,
   "metadata": {},
   "outputs": [],
   "source": [
    "import numpy as np\n",
    "import pandas as pd\n",
    "from itertools import combinations"
   ]
  },
  {
   "cell_type": "code",
   "execution_count": 56,
   "metadata": {
    "scrolled": true
   },
   "outputs": [
    {
     "name": "stdout",
     "output_type": "stream",
     "text": [
      "[ 46.  63.  21. 115. 125.  35.  89.  17. 116.  90.  51.  66. 111. 142.\n",
      " 148.  60.   2.  50.  82.  20.  47.  24.  80. 101. 103.  16.  34.  72.\n",
      " 145. 141. 124.  14. 123.  27.  62.  61.  95. 138.  29.   7. 149. 147.\n",
      " 104. 152.  22.  81.  11.  96.  97.  30.  41.  98.  59.  45.  88.  37.\n",
      "  10. 114. 110.   4.  56. 122. 139. 117. 108.  91.  36. 146. 131. 109.\n",
      "  31.  75.  70. 140.  38. 121.   3.  28. 118.  54. 107.  84.  15.  76.\n",
      "  71. 102. 130. 132.  87.  55. 129.  83.  23.  42.  69.   1.  77. 135.\n",
      " 128.  94.]\n"
     ]
    }
   ],
   "source": [
    "filename = \"../data/data.txt\"\n",
    "data = np.genfromtxt(filename, delimiter=',')\n",
    "print(data)"
   ]
  },
  {
   "cell_type": "code",
   "execution_count": 57,
   "metadata": {
    "scrolled": true
   },
   "outputs": [
    {
     "name": "stdout",
     "output_type": "stream",
     "text": [
      "1\n",
      "[0, 1.0, 2.0, 3.0, 4.0, 7.0, 10.0, 11.0, 14.0, 15.0, 16.0, 17.0, 20.0, 21.0, 22.0, 23.0, 24.0, 27.0, 28.0, 29.0, 30.0, 31.0, 34.0, 35.0, 36.0, 37.0, 38.0, 41.0, 42.0, 45.0, 46.0, 47.0, 50.0, 51.0, 54.0, 55.0, 56.0, 59.0, 60.0, 61.0, 62.0, 63.0, 66.0, 69.0, 70.0, 71.0, 72.0, 75.0, 76.0, 77.0, 80.0, 81.0, 82.0, 83.0, 84.0, 87.0, 88.0, 89.0, 90.0, 91.0, 94.0, 95.0, 96.0, 97.0, 98.0, 101.0, 102.0, 103.0, 104.0, 107.0, 108.0, 109.0, 110.0, 111.0, 114.0, 115.0, 116.0, 117.0, 118.0, 121.0, 122.0, 123.0, 124.0, 125.0, 128.0, 129.0, 130.0, 131.0, 132.0, 135.0, 138.0, 139.0, 140.0, 141.0, 142.0, 145.0, 146.0, 147.0, 148.0, 149.0, 152.0]\n",
      "[1.0, 1.0, 1.0, 1.0, 3.0, 3.0, 1.0, 3.0, 1.0, 1.0, 1.0, 3.0, 1.0, 1.0, 1.0, 1.0, 3.0, 1.0, 1.0, 1.0, 1.0, 3.0, 1.0, 1.0, 1.0, 1.0, 3.0, 1.0, 3.0, 1.0, 1.0, 3.0, 1.0, 3.0, 1.0, 1.0, 3.0, 1.0, 1.0, 1.0, 1.0, 3.0, 3.0, 1.0, 1.0, 1.0, 3.0, 1.0, 1.0, 3.0, 1.0, 1.0, 1.0, 1.0, 3.0, 1.0, 1.0, 1.0, 1.0, 3.0, 1.0, 1.0, 1.0, 1.0, 3.0, 1.0, 1.0, 1.0, 3.0, 1.0, 1.0, 1.0, 1.0, 3.0, 1.0, 1.0, 1.0, 1.0, 3.0, 1.0, 1.0, 1.0, 1.0, 3.0, 1.0, 1.0, 1.0, 1.0, 3.0, 3.0, 1.0, 1.0, 1.0, 1.0, 3.0, 1.0, 1.0, 1.0, 1.0, 3.0]\n",
      "1 counts: 74\n",
      "3 counts: 27\n",
      "1998\n"
     ]
    }
   ],
   "source": [
    "result_array=[0]\n",
    "diff_array = []\n",
    "last_val=0\n",
    "data = np.sort(data)\n",
    "while len(result_array) < len(data):\n",
    "    print(len(result_array))\n",
    "    for i in enumerate(data):\n",
    "#         print(last_val)\n",
    "#         print\n",
    "        diff = i[1] - last_val\n",
    "#         print(diff)\n",
    "        if diff == 1:\n",
    "#             print(\"loop1\")\n",
    "            last_val = i[1]\n",
    "            result_array.append(last_val)\n",
    "            diff_array.append(diff)\n",
    "            pass\n",
    "        else:\n",
    "            if diff == 2:\n",
    "#                 print(\"loop2\")\n",
    "                last_val = i[1]\n",
    "                result_array.append(last_val)\n",
    "                diff_array.append(diff)\n",
    "                pass\n",
    "            else:\n",
    "                if diff == 3:\n",
    "#                     print(\"loop3\")\n",
    "                    last_val = i[1]\n",
    "                    result_array.append(last_val)\n",
    "                    diff_array.append(diff)\n",
    "                    pass\n",
    "                else:\n",
    "                    pass\n",
    "                        \n",
    "print(result_array)\n",
    "print(diff_array)\n",
    "b,c = np.unique(diff_array,return_counts=True)\n",
    "print(\"1 counts:\", c[0])\n",
    "print(\"3 counts:\", c[1]+1)\n",
    "product = c[0] * (c[1]+1)\n",
    "print(product)"
   ]
  },
  {
   "cell_type": "code",
   "execution_count": 48,
   "metadata": {},
   "outputs": [
    {
     "name": "stdout",
     "output_type": "stream",
     "text": [
      "[7 4]\n"
     ]
    }
   ],
   "source": [
    "print(c)"
   ]
  },
  {
   "cell_type": "code",
   "execution_count": null,
   "metadata": {},
   "outputs": [],
   "source": []
  }
 ],
 "metadata": {
  "kernelspec": {
   "display_name": "Python 3",
   "language": "python",
   "name": "python3"
  },
  "language_info": {
   "codemirror_mode": {
    "name": "ipython",
    "version": 3
   },
   "file_extension": ".py",
   "mimetype": "text/x-python",
   "name": "python",
   "nbconvert_exporter": "python",
   "pygments_lexer": "ipython3",
   "version": "3.7.9"
  }
 },
 "nbformat": 4,
 "nbformat_minor": 4
}
