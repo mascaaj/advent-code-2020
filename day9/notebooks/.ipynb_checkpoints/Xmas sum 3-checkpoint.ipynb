{
 "cells": [
  {
   "cell_type": "code",
   "execution_count": 2,
   "metadata": {},
   "outputs": [],
   "source": [
    "import math\n",
    "import numpy as np\n",
    "from itertools import combinations"
   ]
  },
  {
   "cell_type": "code",
   "execution_count": 34,
   "metadata": {
    "scrolled": false
   },
   "outputs": [],
   "source": [
    "filename = \"../data/data.txt\"\n",
    "data = np.genfromtxt(filename, delimiter=',')"
   ]
  },
  {
   "cell_type": "code",
   "execution_count": 38,
   "metadata": {},
   "outputs": [
    {
     "name": "stdout",
     "output_type": "stream",
     "text": [
      "index : 584, value: 217430975.0\n",
      "18805772.0\n",
      "9703408.0\n",
      "min max sum : 28509180.0\n",
      "217430975.0\n",
      "217430975.0\n",
      "min max sum : 434861950.0\n"
     ]
    }
   ],
   "source": [
    "preamble_count=25\n",
    "result_array=[]\n",
    "flag=1\n",
    "for arr in range(0,preamble_count):\n",
    "    result_array.append(0)\n",
    "\n",
    "for i in enumerate(data):\n",
    "    if flag==0:\n",
    "        flagged_num = i[0]-1+preamble_count\n",
    "    result_array.append(flag)\n",
    "    preamble = data[i[0]:i[0]+preamble_count]\n",
    "    if (i[0]+preamble_count)<len(data):\n",
    "        test_val = data[i[0]+preamble_count]\n",
    "        a = combinations(preamble,2)\n",
    "        flag=0\n",
    "        for j in enumerate(list(a)):\n",
    "            eval_sum = sum(j[1])\n",
    "            if test_val == eval_sum:\n",
    "                flag=1\n",
    "    else:\n",
    "        break\n",
    "\n",
    "flagged_value = my_data[flagged_num]\n",
    "print(\"index : {}, value: {}\".format(flagged_num,flagged_value))\n",
    "\n",
    "for i in range(0,len(data)):\n",
    "    for j in range(i,len(data)):\n",
    "        data_sum = sum(data[i:j])\n",
    "        if data_sum == flagged_value:\n",
    "            print(\"max value :\", max(data[i:j]))\n",
    "            print(\"min value :\", min(data[i:j]))\n",
    "            print(\"min max sum :\",max(data[i:j]) + min(data[i:j]))\n",
    "            break"
   ]
  },
  {
   "cell_type": "code",
   "execution_count": 37,
   "metadata": {},
   "outputs": [
    {
     "data": {
      "text/plain": [
       "28509180"
      ]
     },
     "execution_count": 37,
     "metadata": {},
     "output_type": "execute_result"
    }
   ],
   "source": []
  }
 ],
 "metadata": {
  "kernelspec": {
   "display_name": "Python 3",
   "language": "python",
   "name": "python3"
  },
  "language_info": {
   "codemirror_mode": {
    "name": "ipython",
    "version": 3
   },
   "file_extension": ".py",
   "mimetype": "text/x-python",
   "name": "python",
   "nbconvert_exporter": "python",
   "pygments_lexer": "ipython3",
   "version": "3.7.9"
  }
 },
 "nbformat": 4,
 "nbformat_minor": 4
}
