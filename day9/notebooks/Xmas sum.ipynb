{
 "cells": [
  {
   "cell_type": "code",
   "execution_count": 3,
   "metadata": {},
   "outputs": [],
   "source": [
    "import math\n",
    "import numpy as np\n",
    "import pandas as pd"
   ]
  },
  {
   "cell_type": "code",
   "execution_count": 108,
   "metadata": {
    "scrolled": false
   },
   "outputs": [
    {
     "name": "stdout",
     "output_type": "stream",
     "text": [
      "[ 35.  20.  15.  25.  47.  40.  62.  55.  65.  95. 102. 117. 150. 182.\n",
      " 127. 219. 299. 277. 309. 576.]\n"
     ]
    }
   ],
   "source": [
    "filename = \"../data/test_data.txt\"\n",
    "my_data = np.genfromtxt(filename, delimiter=',')\n",
    "# df = pd.read_csv(filename,header=None,names=[\"data\"])\n",
    "# print(df)\n",
    "print(my_data[0:25])"
   ]
  },
  {
   "cell_type": "code",
   "execution_count": 110,
   "metadata": {},
   "outputs": [
    {
     "name": "stdout",
     "output_type": "stream",
     "text": [
      "[35. 20. 15. 25. 47.]\n",
      "[20. 15. 25. 47. 40.]\n",
      "[15. 25. 47. 40. 62.]\n",
      "[25. 47. 40. 62. 55.]\n",
      "[47. 40. 62. 55. 65.]\n",
      "[40. 62. 55. 65. 95.]\n",
      "[ 62.  55.  65.  95. 102.]\n",
      "[ 55.  65.  95. 102. 117.]\n",
      "[ 65.  95. 102. 117. 150.]\n",
      "127.0\n",
      "[ 95. 102. 117. 150. 182.]\n",
      "[102. 117. 150. 182. 127.]\n",
      "[117. 150. 182. 127. 219.]\n",
      "[150. 182. 127. 219. 299.]\n",
      "[182. 127. 219. 299. 277.]\n",
      "[127. 219. 299. 277. 309.]\n"
     ]
    },
    {
     "ename": "IndexError",
     "evalue": "index 20 is out of bounds for axis 0 with size 20",
     "output_type": "error",
     "traceback": [
      "\u001b[0;31m---------------------------------------------------------------------------\u001b[0m",
      "\u001b[0;31mIndexError\u001b[0m                                Traceback (most recent call last)",
      "\u001b[0;32m<ipython-input-110-8e5e8609a5e5>\u001b[0m in \u001b[0;36m<module>\u001b[0;34m\u001b[0m\n\u001b[1;32m     50\u001b[0m     \u001b[0mpreamble\u001b[0m \u001b[0;34m=\u001b[0m \u001b[0mmy_data\u001b[0m\u001b[0;34m[\u001b[0m\u001b[0mi\u001b[0m\u001b[0;34m[\u001b[0m\u001b[0;36m0\u001b[0m\u001b[0;34m]\u001b[0m\u001b[0;34m:\u001b[0m\u001b[0mi\u001b[0m\u001b[0;34m[\u001b[0m\u001b[0;36m0\u001b[0m\u001b[0;34m]\u001b[0m\u001b[0;34m+\u001b[0m\u001b[0mpreamble_count\u001b[0m\u001b[0;34m]\u001b[0m\u001b[0;34m\u001b[0m\u001b[0;34m\u001b[0m\u001b[0m\n\u001b[1;32m     51\u001b[0m     \u001b[0mprint\u001b[0m\u001b[0;34m(\u001b[0m\u001b[0mpreamble\u001b[0m\u001b[0;34m)\u001b[0m\u001b[0;34m\u001b[0m\u001b[0;34m\u001b[0m\u001b[0m\n\u001b[0;32m---> 52\u001b[0;31m     \u001b[0mtest_val\u001b[0m \u001b[0;34m=\u001b[0m \u001b[0mmy_data\u001b[0m\u001b[0;34m[\u001b[0m\u001b[0mi\u001b[0m\u001b[0;34m[\u001b[0m\u001b[0;36m0\u001b[0m\u001b[0;34m]\u001b[0m\u001b[0;34m+\u001b[0m\u001b[0mpreamble_count\u001b[0m\u001b[0;34m+\u001b[0m\u001b[0;36m1\u001b[0m\u001b[0;34m]\u001b[0m\u001b[0;34m\u001b[0m\u001b[0;34m\u001b[0m\u001b[0m\n\u001b[0m\u001b[1;32m     53\u001b[0m \u001b[0;31m#     print(\"new loop\")\u001b[0m\u001b[0;34m\u001b[0m\u001b[0;34m\u001b[0m\u001b[0;34m\u001b[0m\u001b[0m\n\u001b[1;32m     54\u001b[0m     \u001b[0mflag\u001b[0m\u001b[0;34m=\u001b[0m\u001b[0;36m0\u001b[0m\u001b[0;34m\u001b[0m\u001b[0;34m\u001b[0m\u001b[0m\n",
      "\u001b[0;31mIndexError\u001b[0m: index 20 is out of bounds for axis 0 with size 20"
     ]
    }
   ],
   "source": [
    "def combination_test(pream,flag,test_val,pream_count):\n",
    "    for preamble_iter1 in pream:\n",
    "#         print(preamble_iter1)\n",
    "#         print(len(pream))\n",
    "        for preamble_iter2 in pream:\n",
    "#             print(preamble_iter2)\n",
    "            if preamble_iter2 == preamble_iter1:\n",
    "#                 print(\"element1 : {},element2: {}, No sum\".format(preamble_iter1,preamble_iter2))\n",
    "                pass\n",
    "            else:\n",
    "                element_sum = preamble_iter1 + preamble_iter2\n",
    "#                 print(\"element1 : {},element2 : {}, test value: {}, sum : {}\".format(preamble_iter1,preamble_iter2,test_val,element_sum))\n",
    "                if test_val==element_sum:\n",
    "                    flag=1\n",
    "    if preamble_iter1 == pream[pream_count-1] and flag==0:\n",
    "        flagged_val=test_val\n",
    "#         print(\"here1\")   \n",
    "    else:\n",
    "        flagged_val=0\n",
    "#         print(\"here2\")   \n",
    "    return(flag,flagged_val)\n",
    "\n",
    "\n",
    "preamble_count = 5\n",
    "\n",
    "# for i in enumerate(my_data):\n",
    "#     preamble = my_data[i[0]:i[0]+preamble_count]\n",
    "# #     print(preamble)\n",
    "#     test_val = my_data[i[0]+preamble_count+1]\n",
    "# #     print(\"new loop\")\n",
    "#     flag=0\n",
    "#     for j in preamble:\n",
    "# #         print(j)\n",
    "# #         print(len(preamble))\n",
    "#         for k in preamble:\n",
    "# #             print(k)\n",
    "#             if k==j:\n",
    "# #                 print(\"element1 : {},element2: {}, No sum\".format(k,j))\n",
    "#                 pass\n",
    "#             else:\n",
    "#                 p=j+k\n",
    "# #                 print(\"element1 : {},element2 : {}, test value: {}, sum : {}\".format(k,j,test_val,p))\n",
    "#                 if test_val==p:\n",
    "#                     flag=1\n",
    "# #                     print(flag)\n",
    "#     if j == preamble[preamble_count-1] and flag==0:\n",
    "#         print(test_val)\n",
    "\n",
    "for i in enumerate(my_data):\n",
    "    preamble = my_data[i[0]:i[0]+preamble_count]\n",
    "    print(preamble)\n",
    "    test_val = my_data[i[0]+preamble_count+1]\n",
    "#     print(\"new loop\")\n",
    "    flag=0\n",
    "    flag,value=combination_test(preamble,flag,test_val,preamble_count)\n",
    "    if not value==0:\n",
    "        print(value)"
   ]
  }
 ],
 "metadata": {
  "kernelspec": {
   "display_name": "Python 3",
   "language": "python",
   "name": "python3"
  },
  "language_info": {
   "codemirror_mode": {
    "name": "ipython",
    "version": 3
   },
   "file_extension": ".py",
   "mimetype": "text/x-python",
   "name": "python",
   "nbconvert_exporter": "python",
   "pygments_lexer": "ipython3",
   "version": "3.7.9"
  }
 },
 "nbformat": 4,
 "nbformat_minor": 4
}
