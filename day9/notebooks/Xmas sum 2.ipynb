{
 "cells": [
  {
   "cell_type": "code",
   "execution_count": 4,
   "metadata": {},
   "outputs": [],
   "source": [
    "import math\n",
    "import numpy as np\n",
    "import pandas as pd\n",
    "from itertools import combinations"
   ]
  },
  {
   "cell_type": "code",
   "execution_count": 5,
   "metadata": {
    "scrolled": false
   },
   "outputs": [],
   "source": [
    "filename = \"../data/data.txt\"\n",
    "data = np.genfromtxt(filename, delimiter=',')"
   ]
  },
  {
   "cell_type": "code",
   "execution_count": 6,
   "metadata": {},
   "outputs": [
    {
     "name": "stdout",
     "output_type": "stream",
     "text": [
      "index : 584, value: 217430975.0\n"
     ]
    }
   ],
   "source": [
    "preamble_count=25\n",
    "result_array=[]\n",
    "flag=1\n",
    "for arr in range(0,preamble_count):\n",
    "    result_array.append(0)\n",
    "\n",
    "for i in enumerate(data):\n",
    "    if flag==0:\n",
    "        flagged_num = i[0]-1+preamble_count\n",
    "    result_array.append(flag)\n",
    "    preamble = data[i[0]:i[0]+preamble_count]\n",
    "    if (i[0]+preamble_count)<len(data):\n",
    "        test_val = data[i[0]+preamble_count]\n",
    "        a = combinations(preamble,2)\n",
    "        flag=0\n",
    "        for j in enumerate(list(a)):\n",
    "            eval_sum = sum(j[1])\n",
    "            if test_val == eval_sum:\n",
    "                flag=1\n",
    "    else:\n",
    "        break\n",
    "\n",
    "flagged_value = data[flagged_num]\n",
    "print(\"index : {}, value: {}\".format(flagged_num,flagged_value))"
   ]
  }
 ],
 "metadata": {
  "kernelspec": {
   "display_name": "Python 3",
   "language": "python",
   "name": "python3"
  },
  "language_info": {
   "codemirror_mode": {
    "name": "ipython",
    "version": 3
   },
   "file_extension": ".py",
   "mimetype": "text/x-python",
   "name": "python",
   "nbconvert_exporter": "python",
   "pygments_lexer": "ipython3",
   "version": "3.7.9"
  }
 },
 "nbformat": 4,
 "nbformat_minor": 4
}
