{
 "cells": [
  {
   "cell_type": "code",
   "execution_count": 25,
   "metadata": {},
   "outputs": [],
   "source": [
    "from time import time\n",
    "import math\n",
    "import numpy as np\n",
    "import re\n",
    "import struct\n",
    "\n"
   ]
  },
  {
   "cell_type": "code",
   "execution_count": 42,
   "metadata": {},
   "outputs": [
    {
     "name": "stdout",
     "output_type": "stream",
     "text": [
      "['mask = XXXXXXXXXXXXXXXXXXXXXXXXXXXXX1XXXX0X', 'mem[8] = 11', 'mem[7] = 101', 'mem[8] = 0']\n"
     ]
    }
   ],
   "source": [
    "filename = \"../data/test_data.txt\"\n",
    "input_data = [i[:-1] for i in open(filename,\"r\").readlines()]\n",
    "print(input_data)\n",
    "\n",
    "get_bin = lambda x: format(x, 'b').zfill(36)\n",
    "\n",
    "def process_allocation(new_val):\n",
    "    binary_newval = get_bin(new_val)\n",
    "    return binary_newval\n",
    "\n",
    "def add_mask(mask,assigned_val)\n",
    "\n",
    "def solve(data):\n",
    "    for i in enumerate(data):\n",
    "#         print(i[1])\n",
    "        g = i[1].split(sep=\"=\")\n",
    "        if g[0][3]==\"[\":\n",
    "            print(\"mem\")\n",
    "            mem_loc = g[0][4:-2]\n",
    "            mem_newval = g[1]\n",
    "            print(mem_loc,mem_newval)\n",
    "            assignedval = process_allocation(int(mem_newval))\n",
    "            print(assignedval)\n",
    "#             add_mask(mask,mem_assignedval)\n",
    "#             total = total + masked_vel\n",
    "        else:\n",
    "            print(\"mask\")\n",
    "#             Assign sum to result arrary\n",
    "#             initialize sum to zero, masked_vel,new_val\n",
    "#             process mask information\n",
    "#         match = re.match(r\"(^[[a-z]+)([X0-X9]+)\", i[1], re.I)\n",
    "\n",
    "#     sum(result_arrary)\n",
    "        print(g)"
   ]
  },
  {
   "cell_type": "code",
   "execution_count": 43,
   "metadata": {
    "scrolled": true
   },
   "outputs": [
    {
     "name": "stdout",
     "output_type": "stream",
     "text": [
      "mask\n",
      "['mask ', ' XXXXXXXXXXXXXXXXXXXXXXXXXXXXX1XXXX0X']\n",
      "mem\n",
      "8  11\n",
      "000000000000000000000000000000001011\n",
      "['mem[8] ', ' 11']\n",
      "mem\n",
      "7  101\n",
      "000000000000000000000000000001100101\n",
      "['mem[7] ', ' 101']\n",
      "mem\n",
      "8  0\n",
      "000000000000000000000000000000000000\n",
      "['mem[8] ', ' 0']\n"
     ]
    }
   ],
   "source": [
    "solve(input_data)"
   ]
  },
  {
   "cell_type": "code",
   "execution_count": 35,
   "metadata": {},
   "outputs": [],
   "source": [
    "\"{0:d}\".format(37)\n",
    "\n"
   ]
  },
  {
   "cell_type": "code",
   "execution_count": 39,
   "metadata": {},
   "outputs": [
    {
     "data": {
      "text/plain": [
       "'000000000000000000000000000000001011'"
      ]
     },
     "execution_count": 39,
     "metadata": {},
     "output_type": "execute_result"
    }
   ],
   "source": [
    "get_bin(11)"
   ]
  }
 ],
 "metadata": {
  "kernelspec": {
   "display_name": "Python 3",
   "language": "python",
   "name": "python3"
  },
  "language_info": {
   "codemirror_mode": {
    "name": "ipython",
    "version": 3
   },
   "file_extension": ".py",
   "mimetype": "text/x-python",
   "name": "python",
   "nbconvert_exporter": "python",
   "pygments_lexer": "ipython3",
   "version": "3.7.9"
  }
 },
 "nbformat": 4,
 "nbformat_minor": 4
}
