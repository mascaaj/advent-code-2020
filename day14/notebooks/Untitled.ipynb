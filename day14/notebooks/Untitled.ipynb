{
 "cells": [
  {
   "cell_type": "code",
   "execution_count": 6,
   "metadata": {},
   "outputs": [],
   "source": [
    "data = [i[:-1] for i in open(\"../data/data.txt\", \"r\").readlines()]\n",
    "\n",
    "\n",
    "def solve(data):\n",
    "\n",
    "    mem_1 = {}\n",
    "    mem_2 = {}\n",
    "    mask = data.pop(0).split()[-1]\n",
    "    MASK = (1 << 36) - 1\n",
    "\n",
    "    def write(mask, val):\n",
    "        return int(\"\".join(j if i == \"X\" else i for i, j in zip(mask, val)), 2)\n",
    "\n",
    "    for i in data:\n",
    "        if len(i) == 43:\n",
    "            mask = i.split()[-1]\n",
    "            continue\n",
    "        add, val = map(int, i[4:].split(\"] = \"))\n",
    "        mem_1[add] = write(mask, bin(val)[2:].zfill(36))\n",
    "    return sum(mem_1.values())"
   ]
  },
  {
   "cell_type": "code",
   "execution_count": 7,
   "metadata": {},
   "outputs": [
    {
     "data": {
      "text/plain": [
       "3059488894985"
      ]
     },
     "execution_count": 7,
     "metadata": {},
     "output_type": "execute_result"
    }
   ],
   "source": [
    "solve(data)"
   ]
  }
 ],
 "metadata": {
  "kernelspec": {
   "display_name": "Python 3",
   "language": "python",
   "name": "python3"
  },
  "language_info": {
   "codemirror_mode": {
    "name": "ipython",
    "version": 3
   },
   "file_extension": ".py",
   "mimetype": "text/x-python",
   "name": "python",
   "nbconvert_exporter": "python",
   "pygments_lexer": "ipython3",
   "version": "3.7.9"
  }
 },
 "nbformat": 4,
 "nbformat_minor": 4
}
