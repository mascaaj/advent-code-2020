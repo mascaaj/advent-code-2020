{
 "cells": [
  {
   "cell_type": "code",
   "execution_count": null,
   "metadata": {},
   "outputs": [],
   "source": [
    "import pandas as pd\n",
    "import numpy as np\n",
    "import math"
   ]
  },
  {
   "cell_type": "code",
   "execution_count": null,
   "metadata": {},
   "outputs": [],
   "source": [
    "filename = '../data/test_data.txt'  \n",
    "\n",
    "with open(filename) as fn:  \n",
    "\n",
    "    # Read each line\n",
    "    ln = fn.readline()\n",
    "\n",
    "    # Keep count of lines\n",
    "    lncnt = 0\n",
    "    while ln:\n",
    "        x = ln.split(\" \")\n",
    "#         print(len(x))\n",
    "#         print(x)\n",
    "        print(x[0]==\"\\n\")\n",
    "#         print(\"Line {}: {}\".format(lncnt, ln.strip()))\n",
    "        ln = fn.readline()\n",
    "        lncnt += 1\n",
    "\n"
   ]
  },
  {
   "cell_type": "code",
   "execution_count": null,
   "metadata": {},
   "outputs": [],
   "source": [
    "with open(filename) as fn:  \n",
    "\n",
    "    # Read each line\n",
    "    ln = fn.readline()\n",
    "\n",
    "    # Keep count of lines\n",
    "    lncnt = 0\n",
    "    counter=0\n",
    "    while ln:\n",
    "        x = ln.split(\" \")\n",
    "#         print(x[0]==\"\\n\")\n",
    "#         print(\"Line {}: {}\".format(lncnt, ln.strip()))\n",
    "        if (x[0]==\"\\n\")==False:\n",
    "            counter=counter+1\n",
    "            if counter!=0:\n",
    "                for i in range(0,len(x)):\n",
    "                    b = x[i].split(\":\")\n",
    "                    print(b[0])\n",
    "                    if b[0] == \"ecl\":\n",
    "                        ecl_flag=1\n",
    "                    if b[0] == \"ecl\":\n",
    "                        ecl_flag=1\n",
    "                    else:\n",
    "                        print(\"false\")\n",
    "        else:\n",
    "            counter=0\n",
    "            print(\"in loop2\")\n",
    "        \n",
    "        print(counter)\n",
    "        ln = fn.readline()\n",
    "        lncnt += 1\n"
   ]
  },
  {
   "cell_type": "code",
   "execution_count": null,
   "metadata": {},
   "outputs": [],
   "source": [
    "xc=0\n",
    "file = open('../data/test_data.txt','r')\n",
    "Content = file.read() \n",
    "CoList = Content.split(\"\\n\\n\") \n",
    "  \n",
    "for i in CoList: \n",
    "    if i: \n",
    "        xc += 1\n",
    "print(xc)"
   ]
  },
  {
   "cell_type": "code",
   "execution_count": 6,
   "metadata": {},
   "outputs": [
    {
     "name": "stdout",
     "output_type": "stream",
     "text": [
      "('#', '1af34c')\n"
     ]
    }
   ],
   "source": [
    "import re\n",
    "match = re.match(r\"([#])([A-Fa-f0-9]+)\", '#1af34c', re.I)\n",
    "if match:\n",
    "    items = match.groups()\n",
    "print(items)\n",
    "\n"
   ]
  }
 ],
 "metadata": {
  "kernelspec": {
   "display_name": "Python 3",
   "language": "python",
   "name": "python3"
  },
  "language_info": {
   "codemirror_mode": {
    "name": "ipython",
    "version": 3
   },
   "file_extension": ".py",
   "mimetype": "text/x-python",
   "name": "python",
   "nbconvert_exporter": "python",
   "pygments_lexer": "ipython3",
   "version": "3.7.9"
  }
 },
 "nbformat": 4,
 "nbformat_minor": 4
}
