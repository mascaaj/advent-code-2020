{
 "cells": [
  {
   "cell_type": "code",
   "execution_count": 1,
   "metadata": {},
   "outputs": [],
   "source": [
    "import math\n",
    "import pandas as pd\n",
    "import numpy as np"
   ]
  },
  {
   "cell_type": "code",
   "execution_count": 8,
   "metadata": {},
   "outputs": [
    {
     "name": "stdout",
     "output_type": "stream",
     "text": [
      "Line 0: ['nop', '+0']\n",
      "nop\n",
      "Line 1: ['acc', '+1']\n",
      "acc\n",
      "Line 2: ['jmp', '+4']\n",
      "jmp\n",
      "Line 3: ['acc', '+3']\n",
      "acc\n",
      "Line 4: ['jmp', '-3']\n",
      "jmp\n",
      "Line 5: ['acc', '-99']\n",
      "acc\n",
      "Line 6: ['acc', '+1']\n",
      "acc\n",
      "Line 7: ['jmp', '-4']\n",
      "jmp\n",
      "Line 8: ['acc', '+6']\n",
      "acc\n"
     ]
    }
   ],
   "source": [
    "filename = '../data/test_data.txt'\n",
    "# with open(filename) as fn:\n",
    "#     # Read each line\n",
    "#     ln = fn.readline()\n",
    "#     lncnt = 0\n",
    "#     while ln:\n",
    "#         print(\"Line {}: {}\".format(lncnt, ln.split()))\n",
    "#         lsplit = ln.split()\n",
    "#         if lsplit[0]=='nop':\n",
    "#             print(\"nop\")\n",
    "#         elif lsplit[0]=='acc':\n",
    "#             print(\"acc\")\n",
    "#         elif lsplit[0]=='jmp':\n",
    "#             print(\"jmp\")\n",
    "#         ln = fn.readline()\n",
    "#         lncnt += 1\n",
    "        "
   ]
  },
  {
   "cell_type": "code",
   "execution_count": 43,
   "metadata": {},
   "outputs": [
    {
     "name": "stdout",
     "output_type": "stream",
     "text": [
      "in_loop\n",
      "nop\n",
      "acc\n",
      "jmp\n",
      "6\n",
      "[0, 1, 2]\n",
      "[0, 1, 2]\n",
      "4\n",
      "in_loop\n",
      "acc\n",
      "jmp\n",
      "3\n",
      "[0, 1, 2, 6, 7]\n",
      "[0, 1, 2, 6, 7]\n",
      "0\n",
      "in_loop\n",
      "acc\n",
      "jmp\n",
      "1\n",
      "[0, 1, 2, 6, 7, 3, 4]\n",
      "[0, 1, 2, 3, 4, 6, 7]\n",
      "-3\n",
      "in_loop\n",
      "acc\n",
      "jmp\n",
      "6\n",
      "[0, 1, 2, 6, 7, 3, 4, 1, 2]\n",
      "[0, 1, 2, 3, 4, 6, 7]\n",
      "1\n",
      "here\n"
     ]
    }
   ],
   "source": [
    "colnames = [\"instr\",\"val\",\"acc\"]\n",
    "df = pd.read_csv(filename,names=colnames,header=None,sep= \" \")\n",
    "# print(df)\n",
    "\n",
    "instruction_log = []\n",
    "new_log = []\n",
    "row_check = 0\n",
    "acc=0\n",
    "while row_check<=df.shape[0]:\n",
    "    print(\"in_loop\")\n",
    "    if df[\"instr\"][row_check]==\"nop\":\n",
    "        instruction_log.append(row_check)\n",
    "        row_check+=1\n",
    "        print(\"nop\")\n",
    "\n",
    "    if df[\"instr\"][row_check]==\"acc\":\n",
    "        instruction_log.append(row_check)\n",
    "        acc = acc + df[\"val\"][row_check]\n",
    "        row_check+=1\n",
    "        print(\"acc\")\n",
    "\n",
    "\n",
    "    if df[\"instr\"][row_check]==\"jmp\":\n",
    "        instruction_log.append(row_check)\n",
    "        row_check = row_check + df[\"val\"][row_check]\n",
    "        print(\"jmp\")\n",
    "\n",
    "\n",
    "    new_log = np.unique(instruction_log)\n",
    "    new_log = new_log.tolist()\n",
    "    print(row_check)\n",
    "    print(instruction_log)\n",
    "    print(new_log)\n",
    "    print(acc)\n",
    "    if len(instruction_log)!=len(new_log):\n",
    "        print(\"here\")\n",
    "#         print(acc)\n",
    "        break"
   ]
  }
 ],
 "metadata": {
  "kernelspec": {
   "display_name": "Python 3",
   "language": "python",
   "name": "python3"
  },
  "language_info": {
   "codemirror_mode": {
    "name": "ipython",
    "version": 3
   },
   "file_extension": ".py",
   "mimetype": "text/x-python",
   "name": "python",
   "nbconvert_exporter": "python",
   "pygments_lexer": "ipython3",
   "version": "3.7.9"
  }
 },
 "nbformat": 4,
 "nbformat_minor": 4
}
