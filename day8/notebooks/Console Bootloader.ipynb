{
 "cells": [
  {
   "cell_type": "code",
   "execution_count": 1,
   "metadata": {},
   "outputs": [],
   "source": [
    "import math\n",
    "import pandas as pd\n",
    "import numpy as np"
   ]
  },
  {
   "cell_type": "code",
   "execution_count": 54,
   "metadata": {},
   "outputs": [],
   "source": [
    "filename = '../data/test_data.txt'\n",
    "# with open(filename) as fn:\n",
    "#     # Read each line\n",
    "#     ln = fn.readline()\n",
    "#     lncnt = 0\n",
    "#     while ln:\n",
    "#         print(\"Line {}: {}\".format(lncnt, ln.split()))\n",
    "#         lsplit = ln.split()\n",
    "#         if lsplit[0]=='nop':\n",
    "#             print(\"nop\")\n",
    "#         elif lsplit[0]=='acc':\n",
    "#             print(\"acc\")\n",
    "#         elif lsplit[0]=='jmp':\n",
    "#             print(\"jmp\")\n",
    "#         ln = fn.readline()\n",
    "#         lncnt += 1\n",
    "        "
   ]
  },
  {
   "cell_type": "code",
   "execution_count": 56,
   "metadata": {},
   "outputs": [
    {
     "name": "stdout",
     "output_type": "stream",
     "text": [
      "  instr  val\n",
      "0   nop    0\n",
      "1   acc    1\n",
      "2   jmp    4\n",
      "3   acc    3\n",
      "4   jmp   -3\n",
      "5   acc  -99\n",
      "6   acc    1\n",
      "7   jmp   -4\n",
      "8   acc    6\n",
      "here\n",
      "5\n"
     ]
    }
   ],
   "source": [
    "colnames = [\"instr\",\"val\"]\n",
    "df = pd.read_csv(filename,names=colnames,header=None,sep= \" \")\n",
    "print(df)\n",
    "\n",
    "instruction_log = []\n",
    "new_log = []\n",
    "row_check = 0\n",
    "acc_vec=[]\n",
    "acc=0\n",
    "while row_check<=df.shape[0]:\n",
    "\n",
    "    if df[\"instr\"][row_check]==\"nop\":\n",
    "        instruction_log.append(row_check)\n",
    "        row_check+=1\n",
    "#         print(\"nop\")\n",
    "\n",
    "    if df[\"instr\"][row_check]==\"acc\":\n",
    "        instruction_log.append(row_check)\n",
    "        acc = acc + df[\"val\"][row_check]\n",
    "        row_check+=1\n",
    "#         print(\"acc\")\n",
    "\n",
    "\n",
    "    if df[\"instr\"][row_check]==\"jmp\":\n",
    "        instruction_log.append(row_check)\n",
    "        row_check = row_check + df[\"val\"][row_check]\n",
    "#         print(\"jmp\")\n",
    "\n",
    "    acc_vec.append(acc)\n",
    "    new_log = np.unique(instruction_log)\n",
    "    new_log = new_log.tolist()\n",
    "#     print(row_check)\n",
    "#     print(instruction_log)\n",
    "#     print(new_log)\n",
    "#     print(acc_vec)\n",
    "    if len(instruction_log)!=len(new_log):\n",
    "        print(\"here\")\n",
    "        print(acc_vec[-2])\n",
    "        break"
   ]
  }
 ],
 "metadata": {
  "kernelspec": {
   "display_name": "Python 3",
   "language": "python",
   "name": "python3"
  },
  "language_info": {
   "codemirror_mode": {
    "name": "ipython",
    "version": 3
   },
   "file_extension": ".py",
   "mimetype": "text/x-python",
   "name": "python",
   "nbconvert_exporter": "python",
   "pygments_lexer": "ipython3",
   "version": "3.7.9"
  }
 },
 "nbformat": 4,
 "nbformat_minor": 4
}
